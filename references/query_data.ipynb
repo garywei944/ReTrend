{
 "cells": [
  {
   "cell_type": "code",
   "execution_count": 1,
   "metadata": {
    "collapsed": true
   },
   "outputs": [
    {
     "name": "stdout",
     "output_type": "stream",
     "text": [
      "/home/aris/projects/cs6784_research\n"
     ]
    }
   ],
   "source": [
    "%cd '/home/aris/projects/cs6784_research'\n",
    "\n",
    "%load_ext autoreload\n",
    "%autoreload 1\n",
    "\n",
    "from IPython.display import display"
   ]
  },
  {
   "cell_type": "code",
   "execution_count": 2,
   "outputs": [],
   "source": [
    "import numpy as np\n",
    "import pandas as pd\n",
    "import torch\n",
    "import matplotlib.pyplot as plt\n",
    "\n",
    "import os\n",
    "import sys\n",
    "from pathlib import Path\n",
    "\n",
    "import json\n",
    "import pickle\n",
    "\n",
    "from time import time\n",
    "from tqdm.notebook import tqdm\n",
    "from pprint import pprint"
   ],
   "metadata": {
    "collapsed": false
   }
  },
  {
   "cell_type": "code",
   "execution_count": 3,
   "outputs": [
    {
     "name": "stdout",
     "output_type": "stream",
     "text": [
      "INFO: Pandarallel will run on 32 workers.\n",
      "INFO: Pandarallel will use Memory file system to transfer data between the main process and workers.\n"
     ]
    }
   ],
   "source": [
    "# Initialize pandarallel for parallel apply\n",
    "# https://nalepae.github.io/pandarallel/\n",
    "# https://nalepae.github.io/pandarallel/user_guide/\n",
    "\n",
    "# NOTE that pandarallel is not supported on Windows,\n",
    "# skip this cell if running on windows\n",
    "\n",
    "from pandarallel import pandarallel\n",
    "\n",
    "pandarallel.initialize(\n",
    "    nb_workers=os.cpu_count(),\n",
    "    progress_bar=False,\n",
    "    verbose=2\n",
    ")"
   ],
   "metadata": {
    "collapsed": false
   }
  },
  {
   "cell_type": "code",
   "execution_count": 4,
   "outputs": [],
   "source": [
    "def show_df(df: pd.DataFrame):\n",
    "    display(df.head())\n",
    "    print(df.shape)"
   ],
   "metadata": {
    "collapsed": false
   }
  },
  {
   "cell_type": "code",
   "execution_count": 6,
   "outputs": [],
   "source": [
    "import pymongo\n",
    "import getpass\n",
    "\n",
    "# client = pymongo.MongoClient(\n",
    "#     'localhost',\n",
    "#     27017,\n",
    "#     username='aris',\n",
    "#     password=getpass.getpass(),\n",
    "#     authSource='admin'\n",
    "# )\n",
    "client = pymongo.MongoClient(\n",
    "    'oasis.ariseus.net',\n",
    "    27888,\n",
    "    username='cs6784_admin',\n",
    "    password=getpass.getpass(),\n",
    "    authSource='cs6784'\n",
    ")\n",
    "\n",
    "db = client.cs6784\n",
    "dblpv13 = db.dblpv13"
   ],
   "metadata": {
    "collapsed": false
   }
  },
  {
   "cell_type": "code",
   "execution_count": 13,
   "outputs": [
    {
     "name": "stdout",
     "output_type": "stream",
     "text": [
      "541722\n"
     ]
    },
    {
     "data": {
      "text/plain": "                                                                      title  \\\n_id                                                                           \n53e997ccb7602d9701fbee34  SAGE: A New Analysis and Optimization System f...   \n53e997ccb7602d9701fbf738  Shape Description for Content-Based Image Retr...   \n53e997ccb7602d9701fc0025  Neuro-Architecture-Motivated ANNs and Cortical...   \n53e997d1b7602d9701fc348c  Automatic extraction of roads from aerial imag...   \n53e997d7b7602d9701fcd7f2  The ``Test and Select'' Approach to Ensemble C...   \n\n                          year  \\\n_id                              \n53e997ccb7602d9701fbee34  2000   \n53e997ccb7602d9701fbf738  2000   \n53e997ccb7602d9701fc0025  2000   \n53e997d1b7602d9701fc348c  2000   \n53e997d7b7602d9701fcd7f2  2000   \n\n                                                                   keywords  \\\n_id                                                                           \n53e997ccb7602d9701fbee34  [optimization system, intelligent memory archi...   \n53e997ccb7602d9701fbf738  [covariance matrix, support vector machines, s...   \n53e997ccb7602d9701fc0025  [phylogeny, backpropagation, neural networks, ...   \n53e997d1b7602d9701fc348c  [automatic road extraction, aerial imagery, sn...   \n53e997d7b7602d9701fcd7f2  [validation set, ensemble creation, improved r...   \n\n                                                                        fos  \\\n_id                                                                           \n53e997ccb7602d9701fbee34  [Database-centric architecture, Architecture, ...   \n53e997ccb7602d9701fbf738  [Row, Computer vision, Pattern recognition, Co...   \n53e997ccb7602d9701fc0025  [Architecture, Inheritance of acquired charact...   \n53e997d1b7602d9701fc348c  [Computer vision, Edge extraction, Computer sc...   \n53e997d7b7602d9701fcd7f2  [Internal combustion engine, Computer science,...   \n\n                                               doi  \\\n_id                                                  \n53e997ccb7602d9701fbee34  10.1007/3-540-44570-6_12   \n53e997ccb7602d9701fbf738  10.1007/3-540-40053-2_19   \n53e997ccb7602d9701fc0025                             \n53e997d1b7602d9701fc348c     10.1007/s001380050004   \n53e997d7b7602d9701fcd7f2   10.1007/3-540-45014-9_3   \n\n                                                                        pdf  \\\n_id                                                                           \n53e997ccb7602d9701fbee34                                               None   \n53e997ccb7602d9701fbf738                                               None   \n53e997ccb7602d9701fc0025                                               None   \n53e997d1b7602d9701fc348c  https://static.aminer.cn/upload/pdf/program/53...   \n53e997d7b7602d9701fcd7f2                                               None   \n\n                                                                        url  \n_id                                                                          \n53e997ccb7602d9701fbee34       [http://dx.doi.org/10.1007/3-540-44570-6_12]  \n53e997ccb7602d9701fbf738  [http://dx.doi.org/10.1007/3-540-40053-2_19, h...  \n53e997ccb7602d9701fc0025  [http://doi.ieeecomputersociety.org/10.1109/IJ...  \n53e997d1b7602d9701fc348c  [http://dx.doi.org/10.1007/s001380050004, http...  \n53e997d7b7602d9701fcd7f2  [http://dx.doi.org/10.1007/3-540-45014-9_3, ht...  ",
      "text/html": "<div>\n<style scoped>\n    .dataframe tbody tr th:only-of-type {\n        vertical-align: middle;\n    }\n\n    .dataframe tbody tr th {\n        vertical-align: top;\n    }\n\n    .dataframe thead th {\n        text-align: right;\n    }\n</style>\n<table border=\"1\" class=\"dataframe\">\n  <thead>\n    <tr style=\"text-align: right;\">\n      <th></th>\n      <th>title</th>\n      <th>year</th>\n      <th>keywords</th>\n      <th>fos</th>\n      <th>doi</th>\n      <th>pdf</th>\n      <th>url</th>\n    </tr>\n    <tr>\n      <th>_id</th>\n      <th></th>\n      <th></th>\n      <th></th>\n      <th></th>\n      <th></th>\n      <th></th>\n      <th></th>\n    </tr>\n  </thead>\n  <tbody>\n    <tr>\n      <th>53e997ccb7602d9701fbee34</th>\n      <td>SAGE: A New Analysis and Optimization System f...</td>\n      <td>2000</td>\n      <td>[optimization system, intelligent memory archi...</td>\n      <td>[Database-centric architecture, Architecture, ...</td>\n      <td>10.1007/3-540-44570-6_12</td>\n      <td>None</td>\n      <td>[http://dx.doi.org/10.1007/3-540-44570-6_12]</td>\n    </tr>\n    <tr>\n      <th>53e997ccb7602d9701fbf738</th>\n      <td>Shape Description for Content-Based Image Retr...</td>\n      <td>2000</td>\n      <td>[covariance matrix, support vector machines, s...</td>\n      <td>[Row, Computer vision, Pattern recognition, Co...</td>\n      <td>10.1007/3-540-40053-2_19</td>\n      <td>None</td>\n      <td>[http://dx.doi.org/10.1007/3-540-40053-2_19, h...</td>\n    </tr>\n    <tr>\n      <th>53e997ccb7602d9701fc0025</th>\n      <td>Neuro-Architecture-Motivated ANNs and Cortical...</td>\n      <td>2000</td>\n      <td>[phylogeny, backpropagation, neural networks, ...</td>\n      <td>[Architecture, Inheritance of acquired charact...</td>\n      <td></td>\n      <td>None</td>\n      <td>[http://doi.ieeecomputersociety.org/10.1109/IJ...</td>\n    </tr>\n    <tr>\n      <th>53e997d1b7602d9701fc348c</th>\n      <td>Automatic extraction of roads from aerial imag...</td>\n      <td>2000</td>\n      <td>[automatic road extraction, aerial imagery, sn...</td>\n      <td>[Computer vision, Edge extraction, Computer sc...</td>\n      <td>10.1007/s001380050004</td>\n      <td>https://static.aminer.cn/upload/pdf/program/53...</td>\n      <td>[http://dx.doi.org/10.1007/s001380050004, http...</td>\n    </tr>\n    <tr>\n      <th>53e997d7b7602d9701fcd7f2</th>\n      <td>The ``Test and Select'' Approach to Ensemble C...</td>\n      <td>2000</td>\n      <td>[validation set, ensemble creation, improved r...</td>\n      <td>[Internal combustion engine, Computer science,...</td>\n      <td>10.1007/3-540-45014-9_3</td>\n      <td>None</td>\n      <td>[http://dx.doi.org/10.1007/3-540-45014-9_3, ht...</td>\n    </tr>\n  </tbody>\n</table>\n</div>"
     },
     "metadata": {},
     "output_type": "display_data"
    },
    {
     "name": "stdout",
     "output_type": "stream",
     "text": [
      "(541722, 7)\n",
      "CPU times: user 8.91 s, sys: 253 ms, total: 9.17 s\n",
      "Wall time: 25.2 s\n"
     ]
    }
   ],
   "source": [
    "%%time\n",
    "\n",
    "file_name = 'data/interim/ai_ids.json'\n",
    "\n",
    "# projection: which columns to preserve\n",
    "_proj = {\n",
    "    'title': 1,\n",
    "    'year': 1,\n",
    "    'fos': 1,\n",
    "    'keywords': 1,\n",
    "    'pdf': 1,\n",
    "    'doi': 1,\n",
    "    'url': 1,\n",
    "    # 'references': 1\n",
    "}\n",
    "\n",
    "results = db.dblpv13.find(\n",
    "    # filter: the MongoDB filter to select data\n",
    "    {\n",
    "        'year': {'$gte': 2000, '$lt': 2022},\n",
    "        'fos': 'Artificial intelligence',\n",
    "        # 'fos': {'$in': ['Machine learning', 'Artificial intelligence']},\n",
    "        'keywords': {\n",
    "            '$exists': True,\n",
    "            '$not': {'$size': 0}\n",
    "        },\n",
    "        # 'pdf': {'$exists': True}\n",
    "    }, _proj\n",
    ")\n",
    "\n",
    "results = list(results)\n",
    "print(len(results))\n",
    "\n",
    "df_papers = pd.DataFrame.from_records(results, index='_id')\n",
    "\n",
    "show_df(df_papers)"
   ],
   "metadata": {
    "collapsed": false
   }
  },
  {
   "cell_type": "code",
   "execution_count": 14,
   "outputs": [
    {
     "data": {
      "text/plain": "                                                                      title  \\\n_id                                                                           \n53e997ccb7602d9701fbee34  SAGE: A New Analysis and Optimization System f...   \n53e997ccb7602d9701fbf738  Shape Description for Content-Based Image Retr...   \n53e997ccb7602d9701fc0025  Neuro-Architecture-Motivated ANNs and Cortical...   \n53e997d1b7602d9701fc348c  Automatic extraction of roads from aerial imag...   \n53e997d7b7602d9701fcd7f2  The ``Test and Select'' Approach to Ensemble C...   \n\n                          year                             keywords  \\\n_id                                                                   \n53e997ccb7602d9701fbee34  2000                        [sage system]   \n53e997ccb7602d9701fbf738  2000    [present work, covariance matrix]   \n53e997ccb7602d9701fc0025  2000  [ontogeny, epigenesis, neural nets]   \n53e997d1b7602d9701fc348c  2000        [aerial imagery, multi-scale]   \n53e997d7b7602d9701fcd7f2  2000                      [diesel engine]   \n\n                                                                        fos  \\\n_id                                                                           \n53e997ccb7602d9701fbee34  [Database-centric architecture, Architecture, ...   \n53e997ccb7602d9701fbf738  [Row, Computer vision, Pattern recognition, Co...   \n53e997ccb7602d9701fc0025  [Architecture, Inheritance of acquired charact...   \n53e997d1b7602d9701fc348c  [Computer vision, Edge extraction, Computer sc...   \n53e997d7b7602d9701fcd7f2  [Internal combustion engine, Computer science,...   \n\n                                               doi  \\\n_id                                                  \n53e997ccb7602d9701fbee34  10.1007/3-540-44570-6_12   \n53e997ccb7602d9701fbf738  10.1007/3-540-40053-2_19   \n53e997ccb7602d9701fc0025                             \n53e997d1b7602d9701fc348c     10.1007/s001380050004   \n53e997d7b7602d9701fcd7f2   10.1007/3-540-45014-9_3   \n\n                                                                        pdf  \\\n_id                                                                           \n53e997ccb7602d9701fbee34                                               None   \n53e997ccb7602d9701fbf738                                               None   \n53e997ccb7602d9701fc0025                                               None   \n53e997d1b7602d9701fc348c  https://static.aminer.cn/upload/pdf/program/53...   \n53e997d7b7602d9701fcd7f2                                               None   \n\n                                                                        url  \n_id                                                                          \n53e997ccb7602d9701fbee34       [http://dx.doi.org/10.1007/3-540-44570-6_12]  \n53e997ccb7602d9701fbf738  [http://dx.doi.org/10.1007/3-540-40053-2_19, h...  \n53e997ccb7602d9701fc0025  [http://doi.ieeecomputersociety.org/10.1109/IJ...  \n53e997d1b7602d9701fc348c  [http://dx.doi.org/10.1007/s001380050004, http...  \n53e997d7b7602d9701fcd7f2  [http://dx.doi.org/10.1007/3-540-45014-9_3, ht...  ",
      "text/html": "<div>\n<style scoped>\n    .dataframe tbody tr th:only-of-type {\n        vertical-align: middle;\n    }\n\n    .dataframe tbody tr th {\n        vertical-align: top;\n    }\n\n    .dataframe thead th {\n        text-align: right;\n    }\n</style>\n<table border=\"1\" class=\"dataframe\">\n  <thead>\n    <tr style=\"text-align: right;\">\n      <th></th>\n      <th>title</th>\n      <th>year</th>\n      <th>keywords</th>\n      <th>fos</th>\n      <th>doi</th>\n      <th>pdf</th>\n      <th>url</th>\n    </tr>\n    <tr>\n      <th>_id</th>\n      <th></th>\n      <th></th>\n      <th></th>\n      <th></th>\n      <th></th>\n      <th></th>\n      <th></th>\n    </tr>\n  </thead>\n  <tbody>\n    <tr>\n      <th>53e997ccb7602d9701fbee34</th>\n      <td>SAGE: A New Analysis and Optimization System f...</td>\n      <td>2000</td>\n      <td>[sage system]</td>\n      <td>[Database-centric architecture, Architecture, ...</td>\n      <td>10.1007/3-540-44570-6_12</td>\n      <td>None</td>\n      <td>[http://dx.doi.org/10.1007/3-540-44570-6_12]</td>\n    </tr>\n    <tr>\n      <th>53e997ccb7602d9701fbf738</th>\n      <td>Shape Description for Content-Based Image Retr...</td>\n      <td>2000</td>\n      <td>[present work, covariance matrix]</td>\n      <td>[Row, Computer vision, Pattern recognition, Co...</td>\n      <td>10.1007/3-540-40053-2_19</td>\n      <td>None</td>\n      <td>[http://dx.doi.org/10.1007/3-540-40053-2_19, h...</td>\n    </tr>\n    <tr>\n      <th>53e997ccb7602d9701fc0025</th>\n      <td>Neuro-Architecture-Motivated ANNs and Cortical...</td>\n      <td>2000</td>\n      <td>[ontogeny, epigenesis, neural nets]</td>\n      <td>[Architecture, Inheritance of acquired charact...</td>\n      <td></td>\n      <td>None</td>\n      <td>[http://doi.ieeecomputersociety.org/10.1109/IJ...</td>\n    </tr>\n    <tr>\n      <th>53e997d1b7602d9701fc348c</th>\n      <td>Automatic extraction of roads from aerial imag...</td>\n      <td>2000</td>\n      <td>[aerial imagery, multi-scale]</td>\n      <td>[Computer vision, Edge extraction, Computer sc...</td>\n      <td>10.1007/s001380050004</td>\n      <td>https://static.aminer.cn/upload/pdf/program/53...</td>\n      <td>[http://dx.doi.org/10.1007/s001380050004, http...</td>\n    </tr>\n    <tr>\n      <th>53e997d7b7602d9701fcd7f2</th>\n      <td>The ``Test and Select'' Approach to Ensemble C...</td>\n      <td>2000</td>\n      <td>[diesel engine]</td>\n      <td>[Internal combustion engine, Computer science,...</td>\n      <td>10.1007/3-540-45014-9_3</td>\n      <td>None</td>\n      <td>[http://dx.doi.org/10.1007/3-540-45014-9_3, ht...</td>\n    </tr>\n  </tbody>\n</table>\n</div>"
     },
     "metadata": {},
     "output_type": "display_data"
    },
    {
     "name": "stdout",
     "output_type": "stream",
     "text": [
      "(541722, 7)\n",
      "CPU times: user 6.79 s, sys: 2.78 s, total: 9.57 s\n",
      "Wall time: 14.9 s\n"
     ]
    }
   ],
   "source": [
    "%%time\n",
    "\n",
    "def __fun(x: pd.Series):\n",
    "    rng = np.random.default_rng()\n",
    "\n",
    "    x['keywords'] = rng.choice(\n",
    "        x['keywords'],\n",
    "        rng.integers(1, 3, endpoint=True)\n",
    "    )\n",
    "    x['keywords'] = [\n",
    "        e.lower().strip()\n",
    "        for e in x['keywords']\n",
    "    ]\n",
    "    return x\n",
    "\n",
    "\n",
    "# parallel_apply is not supported on Windows, use .apply() instead\n",
    "# df_papers_proc = df_papers.apply(__fun, axis=1)\n",
    "df_papers_proc = df_papers.parallel_apply(__fun, axis=1)\n",
    "\n",
    "show_df(df_papers_proc)"
   ],
   "metadata": {
    "collapsed": false
   }
  },
  {
   "cell_type": "code",
   "execution_count": 12,
   "outputs": [
    {
     "name": "stdout",
     "output_type": "stream",
     "text": [
      "1522701\n",
      "['', 'disjunctive error', 'endangered austronesian language', 'encoding visual object', 'random projection ensemble', 'text cloud', 'proposed registration', 'user activity monitoring', 'multimedia semantic analysis soc', 'trec document collection', 'maximum-margin based discriminative information', 'high resolution remotely sensed image segmentation', 'local linear feature invariance', 'nonstationary ensemble learning', 'three layer markov random field', 'cross-language information delivery system', 'recursive gradient', 'crossing safety', 'head driven tree-to-tree translation', 'shift-convergence disparity remapping technique']\n"
     ]
    }
   ],
   "source": [
    "all_keywords = set.union(*[\n",
    "    set([\n",
    "        k.lower().strip()\n",
    "        for k in e\n",
    "    ])\n",
    "    for e in df_papers.keywords\n",
    "])\n",
    "\n",
    "print(len(all_keywords))\n",
    "print(list(all_keywords)[:20])"
   ],
   "metadata": {
    "collapsed": false
   }
  },
  {
   "cell_type": "code",
   "execution_count": null,
   "outputs": [],
   "source": [],
   "metadata": {
    "collapsed": false
   }
  }
 ],
 "metadata": {
  "kernelspec": {
   "display_name": "Python 3",
   "language": "python",
   "name": "python3"
  },
  "language_info": {
   "codemirror_mode": {
    "name": "ipython",
    "version": 2
   },
   "file_extension": ".py",
   "mimetype": "text/x-python",
   "name": "python",
   "nbconvert_exporter": "python",
   "pygments_lexer": "ipython2",
   "version": "2.7.6"
  }
 },
 "nbformat": 4,
 "nbformat_minor": 0
}
