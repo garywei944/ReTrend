{
 "cells": [
  {
   "cell_type": "code",
   "execution_count": 1,
   "metadata": {
    "collapsed": true
   },
   "outputs": [
    {
     "name": "stdout",
     "output_type": "stream",
     "text": [
      "/home/aris/projects/cs6784_research\n"
     ]
    }
   ],
   "source": [
    "%cd ..\n",
    "\n",
    "%load_ext autoreload\n",
    "%autoreload 2\n",
    "\n",
    "from IPython.display import display"
   ]
  },
  {
   "cell_type": "code",
   "execution_count": 2,
   "outputs": [],
   "source": [
    "import numpy as np\n",
    "import pandas as pd\n",
    "import matplotlib.pyplot as plt\n",
    "\n",
    "import os\n",
    "import sys\n",
    "from pathlib import Path\n",
    "import pickle\n",
    "from time import time\n",
    "from tqdm.notebook import tqdm"
   ],
   "metadata": {
    "collapsed": false
   }
  },
  {
   "cell_type": "code",
   "execution_count": 3,
   "outputs": [],
   "source": [
    "def show_df(df: pd.DataFrame):\n",
    "    display(df.head())\n",
    "    print(df.shape)"
   ],
   "metadata": {
    "collapsed": false
   }
  },
  {
   "cell_type": "code",
   "execution_count": 4,
   "outputs": [],
   "source": [
    "import pymongo\n",
    "import getpass\n",
    "\n",
    "client = pymongo.MongoClient(\n",
    "    'localhost',\n",
    "    27017,\n",
    "    username='aris',\n",
    "    password=getpass.getpass(),\n",
    "    authSource='admin'\n",
    ")\n",
    "\n",
    "db = client.cs6784\n",
    "dblpv13 = db.dblpv13"
   ],
   "metadata": {
    "collapsed": false
   }
  },
  {
   "cell_type": "code",
   "execution_count": 5,
   "outputs": [
    {
     "name": "stdout",
     "output_type": "stream",
     "text": [
      "DBLP V13 has 5,354,309 documents.\n"
     ]
    }
   ],
   "source": [
    "# Total number of documents\n",
    "\n",
    "n = db.command('collstats', 'dblpv13')['count']\n",
    "\n",
    "print(f'DBLP V13 has {n:,} documents.')"
   ],
   "metadata": {
    "collapsed": false
   }
  },
  {
   "cell_type": "code",
   "execution_count": 111,
   "outputs": [],
   "source": [
    "# Define projection attributes that we care\n",
    "\n",
    "projection = {\n",
    "    'title': 1,\n",
    "    'year': 1,\n",
    "    'keywords': 1,\n",
    "    # 'authors._id': 1,\n",
    "    'authors': {\n",
    "        '$map': {\n",
    "            'input': '$authors',\n",
    "            'as': 'e',\n",
    "            'in': '$$e._id'\n",
    "        }\n",
    "    },\n",
    "    'references': 1\n",
    "}"
   ],
   "metadata": {
    "collapsed": false
   }
  },
  {
   "cell_type": "code",
   "execution_count": 130,
   "outputs": [
    {
     "data": {
      "text/plain": "                                                                      title  \\\n_id                                                                           \n53e9b0deb7602d9703b5b22b  Analysis of Requirements Volatility during Sof...   \n53e99fa9b7602d97028817dc  A new efficient approach to the design of para...   \n5bdc318017c44a1f58a089d4  REGGAE: a novel approach for the identificatio...   \n573698826e3b12023e741cef  Detection, Classification and Characterization...   \n53e9a7ffb7602d970314459e  A Spectral Viscosity Method Based on Hermite F...   \n\n                          year  \\\n_id                              \n53e9b0deb7602d9703b5b22b  2004   \n53e99fa9b7602d97028817dc  2006   \n5bdc318017c44a1f58a089d4  2018   \n573698826e3b12023e741cef  2015   \n53e9a7ffb7602d970314459e  2008   \n\n                                                                   keywords  \\\n_id                                                                           \n53e9b0deb7602d9703b5b22b  [requirements volatility, requirements volatil...   \n53e99fa9b7602d97028817dc  [dolph-chebyshev windows, dolph-chebyshev wind...   \n5bdc318017c44a1f58a089d4                                                NaN   \n573698826e3b12023e741cef                                                 []   \n53e9a7ffb7602d970314459e  [nonlinear conservation laws, orthogonal basis...   \n\n                                                                 references  \\\n_id                                                                           \n53e9b0deb7602d9703b5b22b  [53e9bdeeb7602d9704aa0346, 53e99f48b7602d97028...   \n53e99fa9b7602d97028817dc  [53e9aa67b7602d97033ded65, 53e9a4a3b7602d9702d...   \n5bdc318017c44a1f58a089d4  [53e9b098b7602d9703b002f9, 53e9a743b7602d97030...   \n573698826e3b12023e741cef  [5550485145ce0a409eb6d63c, 53e99b71b7602d97024...   \n53e9a7ffb7602d970314459e  [53e99b8db7602d9702431d90, 53e9a987b7602d97032...   \n\n                                                                    authors  \n_id                                                                          \n53e9b0deb7602d9703b5b22b  [53f4d351dabfaeedd8781193, 54059d0cdabfae8faa5...  \n53e99fa9b7602d97028817dc  [53f43470dabfaeb2ac040679, 5406a790dabfae8faa6...  \n5bdc318017c44a1f58a089d4  [562c7a4045cedb3398c34318, None, None, 53f437e...  \n573698826e3b12023e741cef  [None, 562d13f645cedb3398d4913c, 542a0e46dabfa...  \n53e9a7ffb7602d970314459e  [53f4560ddabfaec09f205502, 53f39f7fdabfae4b34a...  ",
      "text/html": "<div>\n<style scoped>\n    .dataframe tbody tr th:only-of-type {\n        vertical-align: middle;\n    }\n\n    .dataframe tbody tr th {\n        vertical-align: top;\n    }\n\n    .dataframe thead th {\n        text-align: right;\n    }\n</style>\n<table border=\"1\" class=\"dataframe\">\n  <thead>\n    <tr style=\"text-align: right;\">\n      <th></th>\n      <th>title</th>\n      <th>year</th>\n      <th>keywords</th>\n      <th>references</th>\n      <th>authors</th>\n    </tr>\n    <tr>\n      <th>_id</th>\n      <th></th>\n      <th></th>\n      <th></th>\n      <th></th>\n      <th></th>\n    </tr>\n  </thead>\n  <tbody>\n    <tr>\n      <th>53e9b0deb7602d9703b5b22b</th>\n      <td>Analysis of Requirements Volatility during Sof...</td>\n      <td>2004</td>\n      <td>[requirements volatility, requirements volatil...</td>\n      <td>[53e9bdeeb7602d9704aa0346, 53e99f48b7602d97028...</td>\n      <td>[53f4d351dabfaeedd8781193, 54059d0cdabfae8faa5...</td>\n    </tr>\n    <tr>\n      <th>53e99fa9b7602d97028817dc</th>\n      <td>A new efficient approach to the design of para...</td>\n      <td>2006</td>\n      <td>[dolph-chebyshev windows, dolph-chebyshev wind...</td>\n      <td>[53e9aa67b7602d97033ded65, 53e9a4a3b7602d9702d...</td>\n      <td>[53f43470dabfaeb2ac040679, 5406a790dabfae8faa6...</td>\n    </tr>\n    <tr>\n      <th>5bdc318017c44a1f58a089d4</th>\n      <td>REGGAE: a novel approach for the identificatio...</td>\n      <td>2018</td>\n      <td>NaN</td>\n      <td>[53e9b098b7602d9703b002f9, 53e9a743b7602d97030...</td>\n      <td>[562c7a4045cedb3398c34318, None, None, 53f437e...</td>\n    </tr>\n    <tr>\n      <th>573698826e3b12023e741cef</th>\n      <td>Detection, Classification and Characterization...</td>\n      <td>2015</td>\n      <td>[]</td>\n      <td>[5550485145ce0a409eb6d63c, 53e99b71b7602d97024...</td>\n      <td>[None, 562d13f645cedb3398d4913c, 542a0e46dabfa...</td>\n    </tr>\n    <tr>\n      <th>53e9a7ffb7602d970314459e</th>\n      <td>A Spectral Viscosity Method Based on Hermite F...</td>\n      <td>2008</td>\n      <td>[nonlinear conservation laws, orthogonal basis...</td>\n      <td>[53e99b8db7602d9702431d90, 53e9a987b7602d97032...</td>\n      <td>[53f4560ddabfaec09f205502, 53f39f7fdabfae4b34a...</td>\n    </tr>\n  </tbody>\n</table>\n</div>"
     },
     "metadata": {},
     "output_type": "display_data"
    },
    {
     "name": "stdout",
     "output_type": "stream",
     "text": [
      "(53543, 5)\n"
     ]
    }
   ],
   "source": [
    "# Query Random sample of 1% data by MongoDB\n",
    "\n",
    "# This process is not reproducible as we cannot set seed to MongoDB query\n",
    "# https://stackoverflow.com/questions/36690714/manually-setting-the-seed-for-mongodb-sample\n",
    "\n",
    "results = dblpv13.aggregate([\n",
    "    {'$sample': {'size': n // 100}},\n",
    "    {'$project': projection}\n",
    "])\n",
    "\n",
    "df_random = pd.DataFrame.from_records(results, index='_id')\n",
    "\n",
    "show_df(df_random)"
   ],
   "metadata": {
    "collapsed": false
   }
  },
  {
   "cell_type": "code",
   "execution_count": 6,
   "outputs": [
    {
     "name": "stdout",
     "output_type": "stream",
     "text": [
      "5291975\n",
      "['53e99784b7602d9701f3f8c3', '53e99784b7602d9701f3f71b', '53e99785b7602d9701f427b8', '53e99785b7602d9701f42886', '53e99785b7602d9701f42c6f']\n"
     ]
    }
   ],
   "source": [
    "results = dblpv13.find({\n",
    "    'year': {'$gte': 1980, '$lt': 2025}\n",
    "}, {'_id': 1})\n",
    "\n",
    "_ids = [e['_id'] for e in results]\n",
    "\n",
    "print(len(_ids))\n",
    "print(_ids[:5])"
   ],
   "metadata": {
    "collapsed": false
   }
  },
  {
   "cell_type": "code",
   "execution_count": 7,
   "outputs": [
    {
     "name": "stdout",
     "output_type": "stream",
     "text": [
      "53543\n",
      "['53e9a55cb7602d9702e836ce', '5ff68c9bd4150a363cd2e19e', '55909ad20cf28af999b589ae', '53e9ad34b7602d9703717779', '5a4aef2617c44a2190f75a43']\n"
     ]
    }
   ],
   "source": [
    "rng = np.random.default_rng(42)\n",
    "\n",
    "sample_ids = rng.choice(_ids, n // 100, False).tolist()\n",
    "\n",
    "print(len(sample_ids))\n",
    "print(sample_ids[:5])"
   ],
   "metadata": {
    "collapsed": false
   }
  },
  {
   "cell_type": "code",
   "execution_count": 8,
   "outputs": [
    {
     "data": {
      "text/plain": "                                                                      title  \\\n_id                                                                           \n53a7290120f7420be8bc149b  Derivation of Knowledge Structures for Distrib...   \n53e99784b7602d9701f3f615                                          Foreword.   \n53e99785b7602d9701f40603                                            GRISLEE   \n53e99785b7602d9701f414f4                                             Dishes   \n53e99785b7602d9701f42c6f                                        Eradication   \n\n                                                                    authors  \\\n_id                                                                           \n53a7290120f7420be8bc149b  [{'name': 'Luca Stefanutti', '_id': '53f45af4d...   \n53e99784b7602d9701f3f615  [{'_id': '5405df6bdabfae450f3dc31d', 'name': '...   \n53e99785b7602d9701f40603  [{'_id': '53f44a37dabfaee4dc7e0bed', 'name': '...   \n53e99785b7602d9701f414f4  [{'gid': '5b8692a9e1cd8e14a35a603d', 'oid': '5...   \n53e99785b7602d9701f42c6f  [{'_id': '53f3a672dabfae4b34adc4eb', 'name': '...   \n\n                                                                      venue  \\\n_id                                                                           \n53a7290120f7420be8bc149b  {'_id': '53a728fe20f7420be8bc0b95', 'sid': 'co...   \n53e99784b7602d9701f3f615  {'_id': '539078ef20f770854f5a84a4', 'type': 0,...   \n53e99785b7602d9701f40603  {'_id': '555036b77cea80f95414b7d2', 'raw': 'I....   \n53e99785b7602d9701f414f4  {'_id': '53a72b2d20f7420be8c1c5a8', 'raw': 'SI...   \n53e99785b7602d9701f42c6f  {'_id': '555036e07cea80f95416334f', 'raw': 'J....   \n\n                          year  \\\n_id                              \n53a7290120f7420be8bc149b  2005   \n53e99784b7602d9701f3f615  2013   \n53e99785b7602d9701f40603  2003   \n53e99785b7602d9701f414f4  2009   \n53e99785b7602d9701f42c6f  1980   \n\n                                                                        fos  \\\n_id                                                                           \n53a7290120f7420be8bc149b  [Grid computing, Knowledge assessment, Adaptiv...   \n53e99784b7602d9701f3f615                                                NaN   \n53e99785b7602d9701f40603                                                NaN   \n53e99785b7602d9701f414f4                                                NaN   \n53e99785b7602d9701f42c6f                                                NaN   \n\n                         page_start page_end  \\\n_id                                            \n53a7290120f7420be8bc149b        105      112   \n53e99784b7602d9701f3f615      K0005    K0005   \n53e99785b7602d9701f40603        603      616   \n53e99785b7602d9701f414f4         38       38   \n53e99785b7602d9701f42c6f       1203     1203   \n\n                                                                        url  \\\n_id                                                                           \n53a7290120f7420be8bc149b  [http://www.booksonline.iospress.nl/Content/Vi...   \n53e99784b7602d9701f3f615  [http://dx.doi.org/10.5702/massspectrometry.K0...   \n53e99785b7602d9701f40603                                                NaN   \n53e99785b7602d9701f414f4       [http://doi.acm.org/10.1145/1665137.1665165]   \n53e99785b7602d9701f42c6f  [http://dx.doi.org/10.1016/j.jal.2011.08.001, ...   \n\n                                                                 references  \\\n_id                                                                           \n53a7290120f7420be8bc149b  [53e998f0b7602d970212b0f0, 53e9b4f9b7602d97040...   \n53e99784b7602d9701f3f615                                                NaN   \n53e99785b7602d9701f40603                                                NaN   \n53e99785b7602d9701f414f4                                                NaN   \n53e99785b7602d9701f42c6f                                                NaN   \n\n                                                                   keywords  \\\n_id                                                                           \n53a7290120f7420be8bc149b                                                NaN   \n53e99784b7602d9701f3f615             [equity and social cohesion., justice]   \n53e99785b7602d9701f40603                                                 []   \n53e99785b7602d9701f414f4  [traditional photography, twisted reality, pre...   \n53e99785b7602d9701f42c6f                                                 []   \n\n                          n_citation lang volume     issue       issn  \\\n_id                                                                     \n53a7290120f7420be8bc149b         NaN  NaN    NaN       NaN        NaN   \n53e99784b7602d9701f3f615         4.0   en      2  Spec Iss  2187-137X   \n53e99785b7602d9701f40603         0.0   en     22       7-8        NaN   \n53e99785b7602d9701f414f4         NaN   en                               \n53e99785b7602d9701f42c6f         4.0   en    210      4475  0036-8075   \n\n                                   isbn                             doi  \\\n_id                                                                       \n53a7290120f7420be8bc149b            NaN                             NaN   \n53e99784b7602d9701f3f615  1-59140-106-2  10.5702/massspectrometry.K0005   \n53e99785b7602d9701f40603            NaN                                   \n53e99785b7602d9701f414f4                        10.1145/1665137.1665165   \n53e99785b7602d9701f42c6f                        10.1126/science.7434020   \n\n                                                                        pdf  \\\n_id                                                                           \n53a7290120f7420be8bc149b                                                NaN   \n53e99784b7602d9701f3f615  https://static.aminer.cn/upload/pdf/program/53...   \n53e99785b7602d9701f40603                                                NaN   \n53e99785b7602d9701f414f4                                                NaN   \n53e99785b7602d9701f42c6f  https://static.aminer.cn/upload/pdf/program/53...   \n\n                                                                   abstract  \n_id                                                                          \n53a7290120f7420be8bc149b                                                NaN  \n53e99784b7602d9701f3f615  There is something seriously missing in a fiel...  \n53e99785b7602d9701f40603                                                     \n53e99785b7602d9701f414f4  Dishes is a digitally manipulated photo that r...  \n53e99785b7602d9701f42c6f  Eradication is a radical form of contraction t...  ",
      "text/html": "<div>\n<style scoped>\n    .dataframe tbody tr th:only-of-type {\n        vertical-align: middle;\n    }\n\n    .dataframe tbody tr th {\n        vertical-align: top;\n    }\n\n    .dataframe thead th {\n        text-align: right;\n    }\n</style>\n<table border=\"1\" class=\"dataframe\">\n  <thead>\n    <tr style=\"text-align: right;\">\n      <th></th>\n      <th>title</th>\n      <th>authors</th>\n      <th>venue</th>\n      <th>year</th>\n      <th>fos</th>\n      <th>page_start</th>\n      <th>page_end</th>\n      <th>url</th>\n      <th>references</th>\n      <th>keywords</th>\n      <th>n_citation</th>\n      <th>lang</th>\n      <th>volume</th>\n      <th>issue</th>\n      <th>issn</th>\n      <th>isbn</th>\n      <th>doi</th>\n      <th>pdf</th>\n      <th>abstract</th>\n    </tr>\n    <tr>\n      <th>_id</th>\n      <th></th>\n      <th></th>\n      <th></th>\n      <th></th>\n      <th></th>\n      <th></th>\n      <th></th>\n      <th></th>\n      <th></th>\n      <th></th>\n      <th></th>\n      <th></th>\n      <th></th>\n      <th></th>\n      <th></th>\n      <th></th>\n      <th></th>\n      <th></th>\n      <th></th>\n    </tr>\n  </thead>\n  <tbody>\n    <tr>\n      <th>53a7290120f7420be8bc149b</th>\n      <td>Derivation of Knowledge Structures for Distrib...</td>\n      <td>[{'name': 'Luca Stefanutti', '_id': '53f45af4d...</td>\n      <td>{'_id': '53a728fe20f7420be8bc0b95', 'sid': 'co...</td>\n      <td>2005</td>\n      <td>[Grid computing, Knowledge assessment, Adaptiv...</td>\n      <td>105</td>\n      <td>112</td>\n      <td>[http://www.booksonline.iospress.nl/Content/Vi...</td>\n      <td>[53e998f0b7602d970212b0f0, 53e9b4f9b7602d97040...</td>\n      <td>NaN</td>\n      <td>NaN</td>\n      <td>NaN</td>\n      <td>NaN</td>\n      <td>NaN</td>\n      <td>NaN</td>\n      <td>NaN</td>\n      <td>NaN</td>\n      <td>NaN</td>\n      <td>NaN</td>\n    </tr>\n    <tr>\n      <th>53e99784b7602d9701f3f615</th>\n      <td>Foreword.</td>\n      <td>[{'_id': '5405df6bdabfae450f3dc31d', 'name': '...</td>\n      <td>{'_id': '539078ef20f770854f5a84a4', 'type': 0,...</td>\n      <td>2013</td>\n      <td>NaN</td>\n      <td>K0005</td>\n      <td>K0005</td>\n      <td>[http://dx.doi.org/10.5702/massspectrometry.K0...</td>\n      <td>NaN</td>\n      <td>[equity and social cohesion., justice]</td>\n      <td>4.0</td>\n      <td>en</td>\n      <td>2</td>\n      <td>Spec Iss</td>\n      <td>2187-137X</td>\n      <td>1-59140-106-2</td>\n      <td>10.5702/massspectrometry.K0005</td>\n      <td>https://static.aminer.cn/upload/pdf/program/53...</td>\n      <td>There is something seriously missing in a fiel...</td>\n    </tr>\n    <tr>\n      <th>53e99785b7602d9701f40603</th>\n      <td>GRISLEE</td>\n      <td>[{'_id': '53f44a37dabfaee4dc7e0bed', 'name': '...</td>\n      <td>{'_id': '555036b77cea80f95414b7d2', 'raw': 'I....</td>\n      <td>2003</td>\n      <td>NaN</td>\n      <td>603</td>\n      <td>616</td>\n      <td>NaN</td>\n      <td>NaN</td>\n      <td>[]</td>\n      <td>0.0</td>\n      <td>en</td>\n      <td>22</td>\n      <td>7-8</td>\n      <td>NaN</td>\n      <td>NaN</td>\n      <td></td>\n      <td>NaN</td>\n      <td></td>\n    </tr>\n    <tr>\n      <th>53e99785b7602d9701f414f4</th>\n      <td>Dishes</td>\n      <td>[{'gid': '5b8692a9e1cd8e14a35a603d', 'oid': '5...</td>\n      <td>{'_id': '53a72b2d20f7420be8c1c5a8', 'raw': 'SI...</td>\n      <td>2009</td>\n      <td>NaN</td>\n      <td>38</td>\n      <td>38</td>\n      <td>[http://doi.acm.org/10.1145/1665137.1665165]</td>\n      <td>NaN</td>\n      <td>[traditional photography, twisted reality, pre...</td>\n      <td>NaN</td>\n      <td>en</td>\n      <td></td>\n      <td></td>\n      <td></td>\n      <td></td>\n      <td>10.1145/1665137.1665165</td>\n      <td>NaN</td>\n      <td>Dishes is a digitally manipulated photo that r...</td>\n    </tr>\n    <tr>\n      <th>53e99785b7602d9701f42c6f</th>\n      <td>Eradication</td>\n      <td>[{'_id': '53f3a672dabfae4b34adc4eb', 'name': '...</td>\n      <td>{'_id': '555036e07cea80f95416334f', 'raw': 'J....</td>\n      <td>1980</td>\n      <td>NaN</td>\n      <td>1203</td>\n      <td>1203</td>\n      <td>[http://dx.doi.org/10.1016/j.jal.2011.08.001, ...</td>\n      <td>NaN</td>\n      <td>[]</td>\n      <td>4.0</td>\n      <td>en</td>\n      <td>210</td>\n      <td>4475</td>\n      <td>0036-8075</td>\n      <td></td>\n      <td>10.1126/science.7434020</td>\n      <td>https://static.aminer.cn/upload/pdf/program/53...</td>\n      <td>Eradication is a radical form of contraction t...</td>\n    </tr>\n  </tbody>\n</table>\n</div>"
     },
     "metadata": {},
     "output_type": "display_data"
    },
    {
     "name": "stdout",
     "output_type": "stream",
     "text": [
      "(53543, 19)\n"
     ]
    }
   ],
   "source": [
    "results = dblpv13.find({\n",
    "    '_id': {'$in': sample_ids}\n",
    "})\n",
    "\n",
    "df_samples = pd.DataFrame.from_records(results, index='_id')\n",
    "\n",
    "show_df(df_samples)"
   ],
   "metadata": {
    "collapsed": false
   }
  },
  {
   "cell_type": "code",
   "execution_count": 145,
   "outputs": [
    {
     "name": "stdout",
     "output_type": "stream",
     "text": [
      "INFO: Pandarallel will run on 32 workers.\n",
      "INFO: Pandarallel will use Memory file system to transfer data between the main process and workers.\n"
     ]
    }
   ],
   "source": [
    "# Initialize pandarallel for parallel apply\n",
    "# https://nalepae.github.io/pandarallel/\n",
    "# https://nalepae.github.io/pandarallel/user_guide/\n",
    "\n",
    "from pandarallel import pandarallel\n",
    "\n",
    "pandarallel.initialize(\n",
    "    nb_workers=os.cpu_count(),\n",
    "    progress_bar=False,\n",
    "    verbose=2\n",
    ")"
   ],
   "metadata": {
    "collapsed": false
   }
  },
  {
   "cell_type": "code",
   "execution_count": 148,
   "outputs": [
    {
     "data": {
      "text/plain": "                                                                      title  \\\n_id                                                                           \n6085415991e01180c31e936c  Explainable Detection of Sarcasm in Social Media.   \n600d4944d4150a363c681c01  A New Approach to Mean Square Exponential Stab...   \n600fe655d4150a363c202e04  6G-enabled IoT Home Environment control using ...   \n600fe644d4150a363c201214  A Small-Sample Faulty Line Detection Method Ba...   \n600fe63bd4150a363c200509  Attention-based contextual interaction asymmet...   \n\n                          year  \\\n_id                              \n6085415991e01180c31e936c  2021   \n600d4944d4150a363c681c01  2021   \n600fe655d4150a363c202e04  2021   \n600fe644d4150a363c201214  2021   \n600fe63bd4150a363c200509  2021   \n\n                                                                 references  \\\n_id                                                                           \n6085415991e01180c31e936c                                                NaN   \n600d4944d4150a363c681c01  [53e9bd1eb7602d97049aae37, 53e9b53bb7602d97040...   \n600fe655d4150a363c202e04                                                NaN   \n600fe644d4150a363c201214                                                NaN   \n600fe63bd4150a363c200509                                                NaN   \n\n                         authors keywords  \n_id                                        \n6085415991e01180c31e936c     NaN      NaN  \n600d4944d4150a363c681c01     NaN      NaN  \n600fe655d4150a363c202e04     NaN      NaN  \n600fe644d4150a363c201214     NaN      NaN  \n600fe63bd4150a363c200509     NaN      NaN  ",
      "text/html": "<div>\n<style scoped>\n    .dataframe tbody tr th:only-of-type {\n        vertical-align: middle;\n    }\n\n    .dataframe tbody tr th {\n        vertical-align: top;\n    }\n\n    .dataframe thead th {\n        text-align: right;\n    }\n</style>\n<table border=\"1\" class=\"dataframe\">\n  <thead>\n    <tr style=\"text-align: right;\">\n      <th></th>\n      <th>title</th>\n      <th>year</th>\n      <th>references</th>\n      <th>authors</th>\n      <th>keywords</th>\n    </tr>\n    <tr>\n      <th>_id</th>\n      <th></th>\n      <th></th>\n      <th></th>\n      <th></th>\n      <th></th>\n    </tr>\n  </thead>\n  <tbody>\n    <tr>\n      <th>6085415991e01180c31e936c</th>\n      <td>Explainable Detection of Sarcasm in Social Media.</td>\n      <td>2021</td>\n      <td>NaN</td>\n      <td>NaN</td>\n      <td>NaN</td>\n    </tr>\n    <tr>\n      <th>600d4944d4150a363c681c01</th>\n      <td>A New Approach to Mean Square Exponential Stab...</td>\n      <td>2021</td>\n      <td>[53e9bd1eb7602d97049aae37, 53e9b53bb7602d97040...</td>\n      <td>NaN</td>\n      <td>NaN</td>\n    </tr>\n    <tr>\n      <th>600fe655d4150a363c202e04</th>\n      <td>6G-enabled IoT Home Environment control using ...</td>\n      <td>2021</td>\n      <td>NaN</td>\n      <td>NaN</td>\n      <td>NaN</td>\n    </tr>\n    <tr>\n      <th>600fe644d4150a363c201214</th>\n      <td>A Small-Sample Faulty Line Detection Method Ba...</td>\n      <td>2021</td>\n      <td>NaN</td>\n      <td>NaN</td>\n      <td>NaN</td>\n    </tr>\n    <tr>\n      <th>600fe63bd4150a363c200509</th>\n      <td>Attention-based contextual interaction asymmet...</td>\n      <td>2021</td>\n      <td>NaN</td>\n      <td>NaN</td>\n      <td>NaN</td>\n    </tr>\n  </tbody>\n</table>\n</div>"
     },
     "metadata": {},
     "output_type": "display_data"
    },
    {
     "name": "stdout",
     "output_type": "stream",
     "text": [
      "(53543, 5)\n"
     ]
    }
   ],
   "source": [
    "def __clean(x: pd.Series):\n",
    "    # x['year'] = int(x['year'])\n",
    "\n",
    "    # WARNING: Many authors are removed b/c they don't have an _id\n",
    "    try:\n",
    "        authors = [\n",
    "            e for e in x['authors']\n",
    "            if e is not None\n",
    "        ]\n",
    "        if len(authors) == 0:\n",
    "            x['authors'] = np.nan\n",
    "        else:\n",
    "            x['authors'] = authors\n",
    "    except TypeError:\n",
    "        x['authors'] = np.nan\n",
    "\n",
    "    try:\n",
    "        if len(x['keywords']) == 0:\n",
    "            x['keywords'] = np.nan\n",
    "    except TypeError:\n",
    "        x['keywords'] = np.nan\n",
    "\n",
    "    return x\n",
    "\n",
    "\n",
    "# Apply cleaning per row\n",
    "# df_samples_proc = df_samples.apply(\n",
    "df_samples_proc = df_samples.parallel_apply(\n",
    "    __clean, axis=1\n",
    ").sort_values(\n",
    "    by='year', ascending=False\n",
    ")\n",
    "\n",
    "df_samples_proc.astype({\n",
    "    'year': int\n",
    "})\n",
    "\n",
    "show_df(df_samples_proc)"
   ],
   "metadata": {
    "collapsed": false
   }
  },
  {
   "cell_type": "code",
   "execution_count": 9,
   "outputs": [],
   "source": [
    "# Same the processed samplings\n",
    "\n",
    "with open('data/interim/df_samples.pkl', 'wb') as f:\n",
    "    pickle.dump(df_samples, f)"
   ],
   "metadata": {
    "collapsed": false
   }
  },
  {
   "cell_type": "code",
   "execution_count": 4,
   "outputs": [
    {
     "data": {
      "text/plain": "                                                                      title  \\\n_id                                                                           \n53a7290120f7420be8bc149b  Derivation of Knowledge Structures for Distrib...   \n53e99784b7602d9701f3f615                                          Foreword.   \n53e99785b7602d9701f40603                                            GRISLEE   \n53e99785b7602d9701f414f4                                             Dishes   \n53e99785b7602d9701f42c6f                                        Eradication   \n\n                                                                    authors  \\\n_id                                                                           \n53a7290120f7420be8bc149b  [{'name': 'Luca Stefanutti', '_id': '53f45af4d...   \n53e99784b7602d9701f3f615  [{'_id': '5405df6bdabfae450f3dc31d', 'name': '...   \n53e99785b7602d9701f40603  [{'_id': '53f44a37dabfaee4dc7e0bed', 'name': '...   \n53e99785b7602d9701f414f4  [{'gid': '5b8692a9e1cd8e14a35a603d', 'oid': '5...   \n53e99785b7602d9701f42c6f  [{'_id': '53f3a672dabfae4b34adc4eb', 'name': '...   \n\n                                                                      venue  \\\n_id                                                                           \n53a7290120f7420be8bc149b  {'_id': '53a728fe20f7420be8bc0b95', 'sid': 'co...   \n53e99784b7602d9701f3f615  {'_id': '539078ef20f770854f5a84a4', 'type': 0,...   \n53e99785b7602d9701f40603  {'_id': '555036b77cea80f95414b7d2', 'raw': 'I....   \n53e99785b7602d9701f414f4  {'_id': '53a72b2d20f7420be8c1c5a8', 'raw': 'SI...   \n53e99785b7602d9701f42c6f  {'_id': '555036e07cea80f95416334f', 'raw': 'J....   \n\n                          year  \\\n_id                              \n53a7290120f7420be8bc149b  2005   \n53e99784b7602d9701f3f615  2013   \n53e99785b7602d9701f40603  2003   \n53e99785b7602d9701f414f4  2009   \n53e99785b7602d9701f42c6f  1980   \n\n                                                                        fos  \\\n_id                                                                           \n53a7290120f7420be8bc149b  [Grid computing, Knowledge assessment, Adaptiv...   \n53e99784b7602d9701f3f615                                                NaN   \n53e99785b7602d9701f40603                                                NaN   \n53e99785b7602d9701f414f4                                                NaN   \n53e99785b7602d9701f42c6f                                                NaN   \n\n                         page_start page_end  \\\n_id                                            \n53a7290120f7420be8bc149b        105      112   \n53e99784b7602d9701f3f615      K0005    K0005   \n53e99785b7602d9701f40603        603      616   \n53e99785b7602d9701f414f4         38       38   \n53e99785b7602d9701f42c6f       1203     1203   \n\n                                                                        url  \\\n_id                                                                           \n53a7290120f7420be8bc149b  [http://www.booksonline.iospress.nl/Content/Vi...   \n53e99784b7602d9701f3f615  [http://dx.doi.org/10.5702/massspectrometry.K0...   \n53e99785b7602d9701f40603                                                NaN   \n53e99785b7602d9701f414f4       [http://doi.acm.org/10.1145/1665137.1665165]   \n53e99785b7602d9701f42c6f  [http://dx.doi.org/10.1016/j.jal.2011.08.001, ...   \n\n                                                                 references  \\\n_id                                                                           \n53a7290120f7420be8bc149b  [53e998f0b7602d970212b0f0, 53e9b4f9b7602d97040...   \n53e99784b7602d9701f3f615                                                NaN   \n53e99785b7602d9701f40603                                                NaN   \n53e99785b7602d9701f414f4                                                NaN   \n53e99785b7602d9701f42c6f                                                NaN   \n\n                                                                   keywords  \\\n_id                                                                           \n53a7290120f7420be8bc149b                                                NaN   \n53e99784b7602d9701f3f615             [equity and social cohesion., justice]   \n53e99785b7602d9701f40603                                                 []   \n53e99785b7602d9701f414f4  [traditional photography, twisted reality, pre...   \n53e99785b7602d9701f42c6f                                                 []   \n\n                          n_citation lang volume     issue       issn  \\\n_id                                                                     \n53a7290120f7420be8bc149b         NaN  NaN    NaN       NaN        NaN   \n53e99784b7602d9701f3f615         4.0   en      2  Spec Iss  2187-137X   \n53e99785b7602d9701f40603         0.0   en     22       7-8        NaN   \n53e99785b7602d9701f414f4         NaN   en                               \n53e99785b7602d9701f42c6f         4.0   en    210      4475  0036-8075   \n\n                                   isbn                             doi  \\\n_id                                                                       \n53a7290120f7420be8bc149b            NaN                             NaN   \n53e99784b7602d9701f3f615  1-59140-106-2  10.5702/massspectrometry.K0005   \n53e99785b7602d9701f40603            NaN                                   \n53e99785b7602d9701f414f4                        10.1145/1665137.1665165   \n53e99785b7602d9701f42c6f                        10.1126/science.7434020   \n\n                                                                        pdf  \\\n_id                                                                           \n53a7290120f7420be8bc149b                                                NaN   \n53e99784b7602d9701f3f615  https://static.aminer.cn/upload/pdf/program/53...   \n53e99785b7602d9701f40603                                                NaN   \n53e99785b7602d9701f414f4                                                NaN   \n53e99785b7602d9701f42c6f  https://static.aminer.cn/upload/pdf/program/53...   \n\n                                                                   abstract  \n_id                                                                          \n53a7290120f7420be8bc149b                                                NaN  \n53e99784b7602d9701f3f615  There is something seriously missing in a fiel...  \n53e99785b7602d9701f40603                                                     \n53e99785b7602d9701f414f4  Dishes is a digitally manipulated photo that r...  \n53e99785b7602d9701f42c6f  Eradication is a radical form of contraction t...  ",
      "text/html": "<div>\n<style scoped>\n    .dataframe tbody tr th:only-of-type {\n        vertical-align: middle;\n    }\n\n    .dataframe tbody tr th {\n        vertical-align: top;\n    }\n\n    .dataframe thead th {\n        text-align: right;\n    }\n</style>\n<table border=\"1\" class=\"dataframe\">\n  <thead>\n    <tr style=\"text-align: right;\">\n      <th></th>\n      <th>title</th>\n      <th>authors</th>\n      <th>venue</th>\n      <th>year</th>\n      <th>fos</th>\n      <th>page_start</th>\n      <th>page_end</th>\n      <th>url</th>\n      <th>references</th>\n      <th>keywords</th>\n      <th>n_citation</th>\n      <th>lang</th>\n      <th>volume</th>\n      <th>issue</th>\n      <th>issn</th>\n      <th>isbn</th>\n      <th>doi</th>\n      <th>pdf</th>\n      <th>abstract</th>\n    </tr>\n    <tr>\n      <th>_id</th>\n      <th></th>\n      <th></th>\n      <th></th>\n      <th></th>\n      <th></th>\n      <th></th>\n      <th></th>\n      <th></th>\n      <th></th>\n      <th></th>\n      <th></th>\n      <th></th>\n      <th></th>\n      <th></th>\n      <th></th>\n      <th></th>\n      <th></th>\n      <th></th>\n      <th></th>\n    </tr>\n  </thead>\n  <tbody>\n    <tr>\n      <th>53a7290120f7420be8bc149b</th>\n      <td>Derivation of Knowledge Structures for Distrib...</td>\n      <td>[{'name': 'Luca Stefanutti', '_id': '53f45af4d...</td>\n      <td>{'_id': '53a728fe20f7420be8bc0b95', 'sid': 'co...</td>\n      <td>2005</td>\n      <td>[Grid computing, Knowledge assessment, Adaptiv...</td>\n      <td>105</td>\n      <td>112</td>\n      <td>[http://www.booksonline.iospress.nl/Content/Vi...</td>\n      <td>[53e998f0b7602d970212b0f0, 53e9b4f9b7602d97040...</td>\n      <td>NaN</td>\n      <td>NaN</td>\n      <td>NaN</td>\n      <td>NaN</td>\n      <td>NaN</td>\n      <td>NaN</td>\n      <td>NaN</td>\n      <td>NaN</td>\n      <td>NaN</td>\n      <td>NaN</td>\n    </tr>\n    <tr>\n      <th>53e99784b7602d9701f3f615</th>\n      <td>Foreword.</td>\n      <td>[{'_id': '5405df6bdabfae450f3dc31d', 'name': '...</td>\n      <td>{'_id': '539078ef20f770854f5a84a4', 'type': 0,...</td>\n      <td>2013</td>\n      <td>NaN</td>\n      <td>K0005</td>\n      <td>K0005</td>\n      <td>[http://dx.doi.org/10.5702/massspectrometry.K0...</td>\n      <td>NaN</td>\n      <td>[equity and social cohesion., justice]</td>\n      <td>4.0</td>\n      <td>en</td>\n      <td>2</td>\n      <td>Spec Iss</td>\n      <td>2187-137X</td>\n      <td>1-59140-106-2</td>\n      <td>10.5702/massspectrometry.K0005</td>\n      <td>https://static.aminer.cn/upload/pdf/program/53...</td>\n      <td>There is something seriously missing in a fiel...</td>\n    </tr>\n    <tr>\n      <th>53e99785b7602d9701f40603</th>\n      <td>GRISLEE</td>\n      <td>[{'_id': '53f44a37dabfaee4dc7e0bed', 'name': '...</td>\n      <td>{'_id': '555036b77cea80f95414b7d2', 'raw': 'I....</td>\n      <td>2003</td>\n      <td>NaN</td>\n      <td>603</td>\n      <td>616</td>\n      <td>NaN</td>\n      <td>NaN</td>\n      <td>[]</td>\n      <td>0.0</td>\n      <td>en</td>\n      <td>22</td>\n      <td>7-8</td>\n      <td>NaN</td>\n      <td>NaN</td>\n      <td></td>\n      <td>NaN</td>\n      <td></td>\n    </tr>\n    <tr>\n      <th>53e99785b7602d9701f414f4</th>\n      <td>Dishes</td>\n      <td>[{'gid': '5b8692a9e1cd8e14a35a603d', 'oid': '5...</td>\n      <td>{'_id': '53a72b2d20f7420be8c1c5a8', 'raw': 'SI...</td>\n      <td>2009</td>\n      <td>NaN</td>\n      <td>38</td>\n      <td>38</td>\n      <td>[http://doi.acm.org/10.1145/1665137.1665165]</td>\n      <td>NaN</td>\n      <td>[traditional photography, twisted reality, pre...</td>\n      <td>NaN</td>\n      <td>en</td>\n      <td></td>\n      <td></td>\n      <td></td>\n      <td></td>\n      <td>10.1145/1665137.1665165</td>\n      <td>NaN</td>\n      <td>Dishes is a digitally manipulated photo that r...</td>\n    </tr>\n    <tr>\n      <th>53e99785b7602d9701f42c6f</th>\n      <td>Eradication</td>\n      <td>[{'_id': '53f3a672dabfae4b34adc4eb', 'name': '...</td>\n      <td>{'_id': '555036e07cea80f95416334f', 'raw': 'J....</td>\n      <td>1980</td>\n      <td>NaN</td>\n      <td>1203</td>\n      <td>1203</td>\n      <td>[http://dx.doi.org/10.1016/j.jal.2011.08.001, ...</td>\n      <td>NaN</td>\n      <td>[]</td>\n      <td>4.0</td>\n      <td>en</td>\n      <td>210</td>\n      <td>4475</td>\n      <td>0036-8075</td>\n      <td></td>\n      <td>10.1126/science.7434020</td>\n      <td>https://static.aminer.cn/upload/pdf/program/53...</td>\n      <td>Eradication is a radical form of contraction t...</td>\n    </tr>\n  </tbody>\n</table>\n</div>"
     },
     "metadata": {},
     "output_type": "display_data"
    },
    {
     "name": "stdout",
     "output_type": "stream",
     "text": [
      "(53543, 19)\n"
     ]
    }
   ],
   "source": [
    "with open('data/interim/df_samples.pkl', 'rb') as f:\n",
    "    df_load = pickle.load(f)\n",
    "\n",
    "show_df(df_load)"
   ],
   "metadata": {
    "collapsed": false
   }
  },
  {
   "cell_type": "code",
   "execution_count": null,
   "outputs": [],
   "source": [],
   "metadata": {
    "collapsed": false
   }
  }
 ],
 "metadata": {
  "kernelspec": {
   "display_name": "Python 3",
   "language": "python",
   "name": "python3"
  },
  "language_info": {
   "codemirror_mode": {
    "name": "ipython",
    "version": 2
   },
   "file_extension": ".py",
   "mimetype": "text/x-python",
   "name": "python",
   "nbconvert_exporter": "python",
   "pygments_lexer": "ipython2",
   "version": "2.7.6"
  }
 },
 "nbformat": 4,
 "nbformat_minor": 0
}
